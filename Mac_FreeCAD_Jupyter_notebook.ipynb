{
 "cells": [
  {
   "cell_type": "code",
   "execution_count": 1,
   "id": "solved-township",
   "metadata": {},
   "outputs": [],
   "source": [
    "import sys, os\n",
    "\n",
    "#JUPYTER_REPO_PATH = \"/opt/jupyter_freecad/\"\n",
    "JUPYTER_REPO_PATH = \"/Users/keithsloan/Jupyter_FreeCAD\"\n",
    "\n",
    "#sys.path.append(\"/opt/freecad/freecad_build/lib\")\n",
    "sys.path.append(\"/Applications/FreeCAD_0.19-E.app/Contents/Resources/lib\")\n",
    "sys.path.append(\"/Applications/FreeCAD_0.19-E.app/Contents/Resources/lib/python3.8/site-packages\")\n",
    "sys.path.append(\"/Applications/FreeCAD_0.19-E.app/Contents/Resources/lib/python3.8/site-packages/PySide2\")\n",
    "sys.path.append(\"/Applications/FreeCAD_0.19-E.app/Contents/Resources/lib/python3.8/site-packages/shiboken2\")\n",
    "sys.path.append(JUPYTER_REPO_PATH + \"IPyth onFreeCADViewer\")\n",
    "\n",
    "import FreeCAD, FreeCADGui\n",
    "from pivy import coin\n",
    "from freecadviewer import render_document, get_document_renderer\n",
    "\n",
    "FreeCADGui.setupWithoutGUI()"
   ]
  },
  {
   "cell_type": "code",
   "execution_count": null,
   "id": "blond-today",
   "metadata": {},
   "outputs": [],
   "source": [
    "doc = FreeCAD.newDocument(\"test_document\")\n",
    "doc.addObject(\"Part::Box\",\"Box\")\n",
    "doc.addObject(\"Part::Cylinder\",\"Cylinder\")\n",
    "doc.addObject(\"Part::Sphere\",\"Sphere\")\n",
    "doc.addObject(\"Part::Torus\",\"Torus\")\n",
    "doc.recompute()\n",
    "doc.FileName = \"test_document.FCStd\"\n",
    "doc.save()"
   ]
  },
  {
   "cell_type": "code",
   "execution_count": null,
   "id": "gentle-journalist",
   "metadata": {},
   "outputs": [],
   "source": [
    "render_document(doc)"
   ]
  },
  {
   "cell_type": "code",
   "execution_count": 2,
   "id": "elect-accent",
   "metadata": {},
   "outputs": [
    {
     "ename": "OpenSCADError",
     "evalue": "' ERROR: Parser error in file \"/var/folders/cj/z259fmwd41dgzl8mq8nppwd40000gn/T/fc-04843-074573-000001.scad\", line 25: syntax error\\n\\nCan\\'t parse file \\'/var/folders/cj/z259fmwd41dgzl8mq8nppwd40000gn/T/fc-04843-074573-000001.scad\\'!\\n'",
     "output_type": "error",
     "traceback": [
      "\u001b[0;31m---------------------------------------------------------------------------\u001b[0m",
      "\u001b[0;31mOpenSCADError\u001b[0m                             Traceback (most recent call last)",
      "\u001b[0;32m<ipython-input-2-e6f18adeeb5a>\u001b[0m in \u001b[0;36m<module>\u001b[0;34m\u001b[0m\n\u001b[1;32m     26\u001b[0m \u001b[0mdoc\u001b[0m\u001b[0;34m=\u001b[0m\u001b[0mFreeCAD\u001b[0m\u001b[0;34m.\u001b[0m\u001b[0mactiveDocument\u001b[0m\u001b[0;34m(\u001b[0m\u001b[0;34m)\u001b[0m \u001b[0;32mor\u001b[0m \u001b[0mFreeCAD\u001b[0m\u001b[0;34m.\u001b[0m\u001b[0mnewDocument\u001b[0m\u001b[0;34m(\u001b[0m\u001b[0;34m)\u001b[0m\u001b[0;34m\u001b[0m\u001b[0;34m\u001b[0m\u001b[0m\n\u001b[1;32m     27\u001b[0m \u001b[0;31m# covert the above OpenSCAD script into CSG script\u001b[0m\u001b[0;34m\u001b[0m\u001b[0;34m\u001b[0m\u001b[0;34m\u001b[0m\u001b[0m\n\u001b[0;32m---> 28\u001b[0;31m \u001b[0mtmpfilename\u001b[0m\u001b[0;34m=\u001b[0m\u001b[0mOpenSCADUtils\u001b[0m\u001b[0;34m.\u001b[0m\u001b[0mcallopenscadstring\u001b[0m\u001b[0;34m(\u001b[0m\u001b[0mscadstr\u001b[0m\u001b[0;34m,\u001b[0m\u001b[0;34m'csg'\u001b[0m\u001b[0;34m)\u001b[0m\u001b[0;34m\u001b[0m\u001b[0;34m\u001b[0m\u001b[0m\n\u001b[0m\u001b[1;32m     29\u001b[0m \u001b[0;32mtry\u001b[0m \u001b[0;34m:\u001b[0m\u001b[0;34m\u001b[0m\u001b[0;34m\u001b[0m\u001b[0m\n\u001b[1;32m     30\u001b[0m     \u001b[0;31m#import CSG file\u001b[0m\u001b[0;34m\u001b[0m\u001b[0;34m\u001b[0m\u001b[0;34m\u001b[0m\u001b[0m\n",
      "\u001b[0;32m/Applications/FreeCAD_0.19-E.app/Contents/Resources/Mod/OpenSCAD/OpenSCADUtils.py\u001b[0m in \u001b[0;36mcallopenscadstring\u001b[0;34m(scadstr, outputext)\u001b[0m\n\u001b[1;32m    196\u001b[0m     \u001b[0minputfile\u001b[0m\u001b[0;34m.\u001b[0m\u001b[0mwrite\u001b[0m\u001b[0;34m(\u001b[0m\u001b[0mscadstr\u001b[0m\u001b[0;34m)\u001b[0m\u001b[0;34m\u001b[0m\u001b[0;34m\u001b[0m\u001b[0m\n\u001b[1;32m    197\u001b[0m     \u001b[0minputfile\u001b[0m\u001b[0;34m.\u001b[0m\u001b[0mclose\u001b[0m\u001b[0;34m(\u001b[0m\u001b[0;34m)\u001b[0m\u001b[0;34m\u001b[0m\u001b[0;34m\u001b[0m\u001b[0m\n\u001b[0;32m--> 198\u001b[0;31m     outputfilename = callopenscad(inputfilename,outputext=outputext,\\\n\u001b[0m\u001b[1;32m    199\u001b[0m         keepname=True)\n\u001b[1;32m    200\u001b[0m     \u001b[0mos\u001b[0m\u001b[0;34m.\u001b[0m\u001b[0munlink\u001b[0m\u001b[0;34m(\u001b[0m\u001b[0minputfilename\u001b[0m\u001b[0;34m)\u001b[0m\u001b[0;34m\u001b[0m\u001b[0;34m\u001b[0m\u001b[0m\n",
      "\u001b[0;32m/Applications/FreeCAD_0.19-E.app/Contents/Resources/Mod/OpenSCAD/OpenSCADUtils.py\u001b[0m in \u001b[0;36mcallopenscad\u001b[0;34m(inputfilename, outputfilename, outputext, keepname)\u001b[0m\n\u001b[1;32m    181\u001b[0m                 outputfilename=os.path.join(dir1,'%s.%s' % \\\n\u001b[1;32m    182\u001b[0m                     (next(tempfilenamegen),outputext))\n\u001b[0;32m--> 183\u001b[0;31m         \u001b[0mcheck_output2\u001b[0m\u001b[0;34m(\u001b[0m\u001b[0;34m[\u001b[0m\u001b[0mosfilename\u001b[0m\u001b[0;34m,\u001b[0m\u001b[0;34m'-o'\u001b[0m\u001b[0;34m,\u001b[0m\u001b[0moutputfilename\u001b[0m\u001b[0;34m,\u001b[0m \u001b[0minputfilename\u001b[0m\u001b[0;34m]\u001b[0m\u001b[0;34m)\u001b[0m\u001b[0;34m\u001b[0m\u001b[0;34m\u001b[0m\u001b[0m\n\u001b[0m\u001b[1;32m    184\u001b[0m         \u001b[0;32mreturn\u001b[0m \u001b[0moutputfilename\u001b[0m\u001b[0;34m\u001b[0m\u001b[0;34m\u001b[0m\u001b[0m\n\u001b[1;32m    185\u001b[0m     \u001b[0;32melse\u001b[0m\u001b[0;34m:\u001b[0m\u001b[0;34m\u001b[0m\u001b[0;34m\u001b[0m\u001b[0m\n",
      "\u001b[0;32m/Applications/FreeCAD_0.19-E.app/Contents/Resources/Mod/OpenSCAD/OpenSCADUtils.py\u001b[0m in \u001b[0;36mcheck_output2\u001b[0;34m(*args, **kwargs)\u001b[0m\n\u001b[1;32m    161\u001b[0m         \u001b[0mstderrd\u001b[0m \u001b[0;34m=\u001b[0m \u001b[0mstderrd\u001b[0m\u001b[0;34m.\u001b[0m\u001b[0mdecode\u001b[0m\u001b[0;34m(\u001b[0m\u001b[0;34m\"utf8\"\u001b[0m\u001b[0;34m)\u001b[0m\u001b[0;34m\u001b[0m\u001b[0;34m\u001b[0m\u001b[0m\n\u001b[1;32m    162\u001b[0m         \u001b[0;32mif\u001b[0m \u001b[0mp\u001b[0m\u001b[0;34m.\u001b[0m\u001b[0mreturncode\u001b[0m \u001b[0;34m!=\u001b[0m \u001b[0;36m0\u001b[0m\u001b[0;34m:\u001b[0m\u001b[0;34m\u001b[0m\u001b[0;34m\u001b[0m\u001b[0m\n\u001b[0;32m--> 163\u001b[0;31m             \u001b[0;32mraise\u001b[0m \u001b[0mOpenSCADError\u001b[0m\u001b[0;34m(\u001b[0m\u001b[0;34m'%s %s\\n'\u001b[0m \u001b[0;34m%\u001b[0m \u001b[0;34m(\u001b[0m\u001b[0mstdoutd\u001b[0m\u001b[0;34m.\u001b[0m\u001b[0mstrip\u001b[0m\u001b[0;34m(\u001b[0m\u001b[0;34m)\u001b[0m\u001b[0;34m,\u001b[0m\u001b[0mstderrd\u001b[0m\u001b[0;34m.\u001b[0m\u001b[0mstrip\u001b[0m\u001b[0;34m(\u001b[0m\u001b[0;34m)\u001b[0m\u001b[0;34m)\u001b[0m\u001b[0;34m)\u001b[0m\u001b[0;34m\u001b[0m\u001b[0;34m\u001b[0m\u001b[0m\n\u001b[0m\u001b[1;32m    164\u001b[0m             \u001b[0;31m#raise Exception,'stdout %s\\n stderr%s' %(stdoutd,stderrd)\u001b[0m\u001b[0;34m\u001b[0m\u001b[0;34m\u001b[0m\u001b[0;34m\u001b[0m\u001b[0m\n\u001b[1;32m    165\u001b[0m         \u001b[0;32mif\u001b[0m \u001b[0mstderrd\u001b[0m\u001b[0;34m.\u001b[0m\u001b[0mstrip\u001b[0m\u001b[0;34m(\u001b[0m\u001b[0;34m)\u001b[0m\u001b[0;34m:\u001b[0m\u001b[0;34m\u001b[0m\u001b[0;34m\u001b[0m\u001b[0m\n",
      "\u001b[0;31mOpenSCADError\u001b[0m: ' ERROR: Parser error in file \"/var/folders/cj/z259fmwd41dgzl8mq8nppwd40000gn/T/fc-04843-074573-000001.scad\", line 25: syntax error\\n\\nCan\\'t parse file \\'/var/folders/cj/z259fmwd41dgzl8mq8nppwd40000gn/T/fc-04843-074573-000001.scad\\'!\\n'"
     ]
    }
   ],
   "source": [
    "scadstr='''\n",
    "module example_intersection()\n",
    "{\n",
    "\tintersection() {\n",
    "\t\tdifference() {\n",
    "\t\t\tunion() {\n",
    "\t\t\t\tcube([30, 30, 30], center = true);\n",
    "\t\t\t\ttranslate([0, 0, -25])\n",
    "\t\t\t\t\tcube([15, 15, 50], center = true);\n",
    "\t\t\t}\n",
    "\t\t\tunion() {\n",
    "\t\t\t\tcube([50, 10, 10], center = true);\n",
    "\t\t\t\tcube([10, 50, 10], center = true);\n",
    "\t\t\t\tcube([10, 10, 50], center = true);\n",
    "\t\t\t}\n",
    "\t\t}\n",
    "\t\ttranslate([0, 0, 5])\n",
    "\t\t\tcylinder(h = 50, r1 = 20, r2 = 5, center = true);\n",
    "\t}\n",
    " \n",
    "\n",
    "example_intersection();\n",
    "'''\n",
    "import OpenSCADUtils\n",
    "import importCSG\n",
    "doc=FreeCAD.activeDocument() or FreeCAD.newDocument()\n",
    "# covert the above OpenSCAD script into CSG script\n",
    "tmpfilename=OpenSCADUtils.callopenscadstring(scadstr,'csg')\n",
    "try :\n",
    "    #import CSG file\n",
    "    importCSG.insert(tmpfilename, doc.Name)\n",
    "finally :\n",
    "    os.unlink(tmpfilename)\n",
    "    render_document(doc)"
   ]
  },
  {
   "cell_type": "code",
   "execution_count": null,
   "id": "handy-morrison",
   "metadata": {},
   "outputs": [],
   "source": [
    "render_document(doc)"
   ]
  },
  {
   "cell_type": "code",
   "execution_count": null,
   "id": "formal-participant",
   "metadata": {},
   "outputs": [],
   "source": []
  }
 ],
 "metadata": {
  "kernelspec": {
   "display_name": "Python 3",
   "language": "python",
   "name": "python3"
  },
  "language_info": {
   "codemirror_mode": {
    "name": "ipython",
    "version": 3
   },
   "file_extension": ".py",
   "mimetype": "text/x-python",
   "name": "python",
   "nbconvert_exporter": "python",
   "pygments_lexer": "ipython3",
   "version": "3.9.2"
  }
 },
 "nbformat": 4,
 "nbformat_minor": 5
}
