{
 "cells": [
  {
   "cell_type": "code",
   "execution_count": null,
   "id": "solved-township",
   "metadata": {},
   "outputs": [],
   "source": [
    "import sys, os\n",
    "\n",
    "#JUPYTER_REPO_PATH = \"/opt/jupyter_freecad/\"\n",
    "JUPYTER_REPO_PATH = \"/Users/keithsloan/Jupyter_FreeCAD\"\n",
    "\n",
    "#sys.path.append(\"/opt/freecad/freecad_build/lib\")\n",
    "sys.path.append(\"/Applications/FreeCAD_0.19-E.app/Contents/Resources/lib\")\n",
    "sys.path.append(\"/Applications/FreeCAD_0.19-E.app/Contents/Resources/lib/python3.8/site-packages\")\n",
    "sys.path.append(\"/Applications/FreeCAD_0.19-E.app/Contents/Resources/lib/python3.8/site-packages/PySide2\")\n",
    "sys.path.append(\"/Applications/FreeCAD_0.19-E.app/Contents/Resources/lib/python3.8/site-packages/shiboken2\")\n",
    "sys.path.append(JUPYTER_REPO_PATH + \"IPyth onFreeCADViewer\")\n",
    "\n",
    "import FreeCAD, FreeCADGui\n",
    "from pivy import coin\n",
    "from freecadviewer import render_document, get_document_renderer\n",
    "\n",
    "FreeCADGui.setupWithoutGUI()"
   ]
  },
  {
   "cell_type": "code",
   "execution_count": null,
   "id": "blond-today",
   "metadata": {},
   "outputs": [],
   "source": [
    "doc = FreeCAD.newDocument(\"test_document\")\n",
    "doc.addObject(\"Part::Box\",\"Box\")\n",
    "doc.addObject(\"Part::Cylinder\",\"Cylinder\")\n",
    "doc.addObject(\"Part::Sphere\",\"Sphere\")\n",
    "doc.addObject(\"Part::Torus\",\"Torus\")\n",
    "doc.recompute()\n",
    "doc.FileName = \"test_document.FCStd\"\n",
    "doc.save()"
   ]
  },
  {
   "cell_type": "code",
   "execution_count": null,
   "id": "gentle-journalist",
   "metadata": {},
   "outputs": [],
   "source": [
    "render_document(doc)"
   ]
  },
  {
   "cell_type": "code",
   "execution_count": null,
   "id": "elect-accent",
   "metadata": {},
   "outputs": [],
   "source": [
    "scadstr='''\n",
    "module example_intersection()\n",
    "{\n",
    "\tintersection() {\n",
    "\t\tdifference() {\n",
    "\t\t\tunion() {\n",
    "\t\t\t\tcube([30, 30, 30], center = true);\n",
    "\t\t\t\ttranslate([0, 0, -25])\n",
    "\t\t\t\t\tcube([15, 15, 50], center = true);\n",
    "\t\t\t}\n",
    "\t\t\tunion() {\n",
    "\t\t\t\tcube([50, 10, 10], center = true);\n",
    "\t\t\t\tcube([10, 50, 10], center = true);\n",
    "\t\t\t\tcube([10, 10, 50], center = true);\n",
    "\t\t\t}\n",
    "\t\t}\n",
    "\t\ttranslate([0, 0, 5])\n",
    "\t\t\tcylinder(h = 50, r1 = 20, r2 = 5, center = true);\n",
    "\t}\n",
    " \n",
    "\n",
    "example_intersection();\n",
    "'''\n",
    "import OpenSCADUtils\n",
    "import importCSG\n",
    "doc=FreeCAD.activeDocument() or FreeCAD.newDocument()\n",
    "# covert the above OpenSCAD script into CSG script\n",
    "tmpfilename=OpenSCADUtils.callopenscadstring(scadstr,'csg')\n",
    "try :\n",
    "    #import CSG file\n",
    "    importCSG.insert(tmpfilename, doc.Name)\n",
    "finally :\n",
    "    os.unlink(tmpfilename)\n",
    "    render_document(doc)"
   ]
  },
  {
   "cell_type": "code",
   "execution_count": null,
   "id": "handy-morrison",
   "metadata": {},
   "outputs": [],
   "source": [
    "render_document(doc)"
   ]
  },
  {
   "cell_type": "code",
   "execution_count": null,
   "id": "formal-participant",
   "metadata": {},
   "outputs": [],
   "source": []
  }
 ],
 "metadata": {
  "kernelspec": {
   "display_name": "Python 3",
   "language": "python",
   "name": "python3"
  },
  "language_info": {
   "codemirror_mode": {
    "name": "ipython",
    "version": 3
   },
   "file_extension": ".py",
   "mimetype": "text/x-python",
   "name": "python",
   "nbconvert_exporter": "python",
   "pygments_lexer": "ipython3",
   "version": "3.9.2"
  }
 },
 "nbformat": 4,
 "nbformat_minor": 5
}
